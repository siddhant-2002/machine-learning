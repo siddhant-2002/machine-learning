{
 "cells": [
  {
   "cell_type": "code",
   "execution_count": 1,
   "id": "9a9784eb",
   "metadata": {
    "papermill": {
     "duration": 7.651297,
     "end_time": "2022-11-12T19:23:27.502587",
     "exception": false,
     "start_time": "2022-11-12T19:23:19.85129",
     "status": "completed"
    },
    "tags": []
   },
   "outputs": [
    {
     "name": "stderr",
     "output_type": "stream",
     "text": [
      "2023-11-17 20:55:05.396315: I tensorflow/tsl/cuda/cudart_stub.cc:28] Could not find cuda drivers on your machine, GPU will not be used.\n",
      "2023-11-17 20:55:05.768758: E tensorflow/compiler/xla/stream_executor/cuda/cuda_dnn.cc:9342] Unable to register cuDNN factory: Attempting to register factory for plugin cuDNN when one has already been registered\n",
      "2023-11-17 20:55:05.768807: E tensorflow/compiler/xla/stream_executor/cuda/cuda_fft.cc:609] Unable to register cuFFT factory: Attempting to register factory for plugin cuFFT when one has already been registered\n",
      "2023-11-17 20:55:05.771098: E tensorflow/compiler/xla/stream_executor/cuda/cuda_blas.cc:1518] Unable to register cuBLAS factory: Attempting to register factory for plugin cuBLAS when one has already been registered\n",
      "2023-11-17 20:55:05.961486: I tensorflow/tsl/cuda/cudart_stub.cc:28] Could not find cuda drivers on your machine, GPU will not be used.\n",
      "2023-11-17 20:55:05.963558: I tensorflow/core/platform/cpu_feature_guard.cc:182] This TensorFlow binary is optimized to use available CPU instructions in performance-critical operations.\n",
      "To enable the following instructions: AVX2 FMA, in other operations, rebuild TensorFlow with the appropriate compiler flags.\n",
      "2023-11-17 20:55:08.354497: W tensorflow/compiler/tf2tensorrt/utils/py_utils.cc:38] TF-TRT Warning: Could not find TensorRT\n"
     ]
    }
   ],
   "source": [
    "import math\n",
    "import numpy as np\n",
    "import pandas as pd\n",
    "import tensorflow as tf\n",
    "import matplotlib.pyplot as plt\n",
    "from tensorflow.keras import Model\n",
    "from tensorflow.keras import Sequential\n",
    "from tensorflow.keras.optimizers import Adam\n",
    "from sklearn.preprocessing import StandardScaler\n",
    "from tensorflow.keras.layers import Dense, Dropout\n",
    "from sklearn.model_selection import train_test_split\n",
    "from tensorflow.keras.losses import MeanSquaredLogarithmicError"
   ]
  },
  {
   "cell_type": "code",
   "execution_count": 2,
   "id": "d2935b10",
   "metadata": {
    "papermill": {
     "duration": 0.388366,
     "end_time": "2022-11-12T19:23:27.89808",
     "exception": false,
     "start_time": "2022-11-12T19:23:27.509714",
     "status": "completed"
    },
    "tags": []
   },
   "outputs": [],
   "source": [
    "df = np.loadtxt('https://raw.githubusercontent.com/jbrownlee/Datasets/master/pima-indians-diabetes.data.csv', delimiter=',')"
   ]
  },
  {
   "cell_type": "code",
   "execution_count": 3,
   "id": "15dcd7a7",
   "metadata": {
    "papermill": {
     "duration": 0.020734,
     "end_time": "2022-11-12T19:23:27.925627",
     "exception": false,
     "start_time": "2022-11-12T19:23:27.904893",
     "status": "completed"
    },
    "tags": []
   },
   "outputs": [
    {
     "data": {
      "text/plain": [
       "array([[  6.   , 148.   ,  72.   , ...,   0.627,  50.   ,   1.   ],\n",
       "       [  1.   ,  85.   ,  66.   , ...,   0.351,  31.   ,   0.   ],\n",
       "       [  8.   , 183.   ,  64.   , ...,   0.672,  32.   ,   1.   ],\n",
       "       ...,\n",
       "       [  5.   , 121.   ,  72.   , ...,   0.245,  30.   ,   0.   ],\n",
       "       [  1.   , 126.   ,  60.   , ...,   0.349,  47.   ,   1.   ],\n",
       "       [  1.   ,  93.   ,  70.   , ...,   0.315,  23.   ,   0.   ]])"
      ]
     },
     "execution_count": 3,
     "metadata": {},
     "output_type": "execute_result"
    }
   ],
   "source": [
    "df"
   ]
  },
  {
   "cell_type": "code",
   "execution_count": 4,
   "id": "a5a69a3d",
   "metadata": {
    "papermill": {
     "duration": 0.01712,
     "end_time": "2022-11-12T19:23:27.949965",
     "exception": false,
     "start_time": "2022-11-12T19:23:27.932845",
     "status": "completed"
    },
    "tags": []
   },
   "outputs": [
    {
     "data": {
      "text/plain": [
       "(768, 9)"
      ]
     },
     "execution_count": 4,
     "metadata": {},
     "output_type": "execute_result"
    }
   ],
   "source": [
    "df.shape"
   ]
  },
  {
   "cell_type": "code",
   "execution_count": 5,
   "id": "6b7fa3ff",
   "metadata": {
    "papermill": {
     "duration": 0.017249,
     "end_time": "2022-11-12T19:23:27.974337",
     "exception": false,
     "start_time": "2022-11-12T19:23:27.957088",
     "status": "completed"
    },
    "tags": []
   },
   "outputs": [],
   "source": [
    "x = df[:,:8]\n",
    "y = df[:,8]"
   ]
  },
  {
   "cell_type": "code",
   "execution_count": 6,
   "id": "fa5ad326",
   "metadata": {
    "papermill": {
     "duration": 0.022515,
     "end_time": "2022-11-12T19:23:28.005566",
     "exception": false,
     "start_time": "2022-11-12T19:23:27.983051",
     "status": "completed"
    },
    "tags": []
   },
   "outputs": [],
   "source": [
    "from sklearn.model_selection import train_test_split\n",
    "X_train, X_temp, y_train, y_temp = train_test_split(x, y, test_size=0.2, random_state=42)\n",
    "\n",
    "X_test, X_val, y_test, y_val = train_test_split(X_temp, y_temp, test_size=0.5, random_state=42)"
   ]
  },
  {
   "cell_type": "code",
   "execution_count": 7,
   "id": "4dc9ec81",
   "metadata": {
    "papermill": {
     "duration": 0.018342,
     "end_time": "2022-11-12T19:23:28.031252",
     "exception": false,
     "start_time": "2022-11-12T19:23:28.01291",
     "status": "completed"
    },
    "tags": []
   },
   "outputs": [
    {
     "name": "stdout",
     "output_type": "stream",
     "text": [
      "x train shape(614, 8)\n",
      "y train shape(614,)\n",
      "x test shape(77, 8)\n",
      "y test shape(77,)\n",
      "x val shape(77, 8)\n",
      "y val shape(77,)\n"
     ]
    }
   ],
   "source": [
    "print(f\"x train shape{X_train.shape}\")\n",
    "print(f\"y train shape{y_train.shape}\")\n",
    "print(f\"x test shape{X_test.shape}\")\n",
    "print(f\"y test shape{y_test.shape}\")\n",
    "print(f\"x val shape{X_val.shape}\")\n",
    "print(f\"y val shape{y_val.shape}\")"
   ]
  },
  {
   "cell_type": "code",
   "execution_count": 8,
   "id": "158acaef",
   "metadata": {
    "papermill": {
     "duration": 0.018303,
     "end_time": "2022-11-12T19:23:28.05689",
     "exception": false,
     "start_time": "2022-11-12T19:23:28.038587",
     "status": "completed"
    },
    "tags": []
   },
   "outputs": [],
   "source": [
    "from sklearn.preprocessing import StandardScaler\n",
    "scaler = StandardScaler()\n",
    "X_train = scaler.fit_transform(X_train)\n",
    "X_test = scaler.transform(X_test)\n",
    "X_val = scaler.transform(X_val)"
   ]
  },
  {
   "cell_type": "code",
   "execution_count": 9,
   "id": "1bbf24f1",
   "metadata": {
    "papermill": {
     "duration": 0.019165,
     "end_time": "2022-11-12T19:23:28.083282",
     "exception": false,
     "start_time": "2022-11-12T19:23:28.064117",
     "status": "completed"
    },
    "tags": []
   },
   "outputs": [
    {
     "data": {
      "text/plain": [
       "Counter({0.0: 500, 1.0: 268})"
      ]
     },
     "execution_count": 9,
     "metadata": {},
     "output_type": "execute_result"
    }
   ],
   "source": [
    "from collections import Counter\n",
    "Counter(y)"
   ]
  },
  {
   "cell_type": "code",
   "execution_count": 10,
   "id": "5c94bc61",
   "metadata": {
    "papermill": {
     "duration": 0.194263,
     "end_time": "2022-11-12T19:23:28.285212",
     "exception": false,
     "start_time": "2022-11-12T19:23:28.090949",
     "status": "completed"
    },
    "tags": []
   },
   "outputs": [],
   "source": [
    "import seaborn as sns"
   ]
  },
  {
   "cell_type": "code",
   "execution_count": 11,
   "id": "952c7743",
   "metadata": {
    "execution": {
     "iopub.execute_input": "2022-11-12T19:23:28.325596Z",
     "iopub.status.busy": "2022-11-12T19:23:28.325172Z",
     "iopub.status.idle": "2022-11-12T19:23:28.330701Z",
     "shell.execute_reply": "2022-11-12T19:23:28.329515Z"
    },
    "papermill": {
     "duration": 0.017043,
     "end_time": "2022-11-12T19:23:28.333356",
     "exception": false,
     "start_time": "2022-11-12T19:23:28.316313",
     "status": "completed"
    },
    "tags": []
   },
   "outputs": [],
   "source": [
    "from tensorflow.keras.models import Sequential"
   ]
  },
  {
   "cell_type": "code",
   "execution_count": 12,
   "id": "c4e9210b",
   "metadata": {
    "papermill": {
     "duration": 0.159372,
     "end_time": "2022-11-12T19:23:28.500373",
     "exception": false,
     "start_time": "2022-11-12T19:23:28.341001",
     "status": "completed"
    },
    "tags": []
   },
   "outputs": [],
   "source": [
    "model = Sequential([\n",
    "\n",
    "tf.keras.layers.InputLayer(8,),\n",
    "Dense(50,activation='relu'),\n",
    "    \n",
    "Dense(50,activation='relu'),\n",
    "Dense(50,activation='relu'),\n",
    "Dense(50,activation='relu'),\n",
    "    \n",
    "Dense(1,activation='sigmoid')\n",
    "])\n"
   ]
  },
  {
   "cell_type": "code",
   "execution_count": 13,
   "id": "467b87fa",
   "metadata": {
    "papermill": {
     "duration": 0.018213,
     "end_time": "2022-11-12T19:23:28.526043",
     "exception": false,
     "start_time": "2022-11-12T19:23:28.50783",
     "status": "completed"
    },
    "tags": []
   },
   "outputs": [
    {
     "name": "stdout",
     "output_type": "stream",
     "text": [
      "Model: \"sequential\"\n",
      "_________________________________________________________________\n",
      " Layer (type)                Output Shape              Param #   \n",
      "=================================================================\n",
      " dense (Dense)               (None, 50)                450       \n",
      "                                                                 \n",
      " dense_1 (Dense)             (None, 50)                2550      \n",
      "                                                                 \n",
      " dense_2 (Dense)             (None, 50)                2550      \n",
      "                                                                 \n",
      " dense_3 (Dense)             (None, 50)                2550      \n",
      "                                                                 \n",
      " dense_4 (Dense)             (None, 1)                 51        \n",
      "                                                                 \n",
      "=================================================================\n",
      "Total params: 8151 (31.84 KB)\n",
      "Trainable params: 8151 (31.84 KB)\n",
      "Non-trainable params: 0 (0.00 Byte)\n",
      "_________________________________________________________________\n"
     ]
    }
   ],
   "source": [
    "model.summary()"
   ]
  },
  {
   "cell_type": "code",
   "execution_count": 14,
   "id": "bdf0ed8b",
   "metadata": {
    "papermill": {
     "duration": 0.027099,
     "end_time": "2022-11-12T19:23:28.560515",
     "exception": false,
     "start_time": "2022-11-12T19:23:28.533416",
     "status": "completed"
    },
    "tags": []
   },
   "outputs": [],
   "source": [
    "opt = tf.keras.optimizers.Adam(learning_rate=0.0001)\n",
    "model.compile(loss='binary_crossentropy', optimizer=opt, metrics=['accuracy'])"
   ]
  },
  {
   "cell_type": "code",
   "execution_count": 15,
   "id": "02967cdb",
   "metadata": {
    "papermill": {
     "duration": 27.671257,
     "end_time": "2022-11-12T19:23:56.239208",
     "exception": false,
     "start_time": "2022-11-12T19:23:28.567951",
     "status": "completed"
    },
    "tags": []
   },
   "outputs": [
    {
     "name": "stdout",
     "output_type": "stream",
     "text": [
      "Epoch 1/25\n",
      "2/2 [==============================] - 3s 560ms/step - loss: 4.7566 - accuracy: 0.6497 - val_loss: 0.7053 - val_accuracy: 0.4675\n",
      "Epoch 2/25\n",
      "2/2 [==============================] - 0s 71ms/step - loss: 4.4460 - accuracy: 0.6497 - val_loss: 0.7055 - val_accuracy: 0.4416\n",
      "Epoch 3/25\n",
      "2/2 [==============================] - 0s 75ms/step - loss: 4.1319 - accuracy: 0.6497 - val_loss: 0.7056 - val_accuracy: 0.4156\n",
      "Epoch 4/25\n",
      "2/2 [==============================] - 0s 61ms/step - loss: 3.8220 - accuracy: 0.6484 - val_loss: 0.7058 - val_accuracy: 0.3766\n",
      "Epoch 5/25\n",
      "2/2 [==============================] - 0s 60ms/step - loss: 3.5174 - accuracy: 0.6484 - val_loss: 0.7061 - val_accuracy: 0.3896\n",
      "Epoch 6/25\n",
      "2/2 [==============================] - 0s 90ms/step - loss: 3.2287 - accuracy: 0.6484 - val_loss: 0.7064 - val_accuracy: 0.4026\n",
      "Epoch 7/25\n",
      "2/2 [==============================] - 0s 89ms/step - loss: 2.9491 - accuracy: 0.6471 - val_loss: 0.7067 - val_accuracy: 0.4026\n",
      "Epoch 8/25\n",
      "2/2 [==============================] - 0s 95ms/step - loss: 2.6654 - accuracy: 0.6419 - val_loss: 0.7070 - val_accuracy: 0.4156\n",
      "Epoch 9/25\n",
      "2/2 [==============================] - 0s 113ms/step - loss: 2.4001 - accuracy: 0.6393 - val_loss: 0.7074 - val_accuracy: 0.4156\n",
      "Epoch 10/25\n",
      "2/2 [==============================] - 0s 116ms/step - loss: 2.1461 - accuracy: 0.6315 - val_loss: 0.7077 - val_accuracy: 0.4286\n",
      "Epoch 11/25\n",
      "2/2 [==============================] - 0s 93ms/step - loss: 1.9068 - accuracy: 0.6341 - val_loss: 0.7081 - val_accuracy: 0.4156\n",
      "Epoch 12/25\n",
      "2/2 [==============================] - 0s 82ms/step - loss: 1.6800 - accuracy: 0.6367 - val_loss: 0.7084 - val_accuracy: 0.4026\n",
      "Epoch 13/25\n",
      "2/2 [==============================] - 0s 91ms/step - loss: 1.4904 - accuracy: 0.6341 - val_loss: 0.7088 - val_accuracy: 0.3766\n",
      "Epoch 14/25\n",
      "2/2 [==============================] - 0s 70ms/step - loss: 1.3164 - accuracy: 0.6328 - val_loss: 0.7091 - val_accuracy: 0.3766\n",
      "Epoch 15/25\n",
      "2/2 [==============================] - 0s 121ms/step - loss: 1.1974 - accuracy: 0.6146 - val_loss: 0.7095 - val_accuracy: 0.3636\n",
      "Epoch 16/25\n",
      "2/2 [==============================] - 0s 139ms/step - loss: 1.0988 - accuracy: 0.6016 - val_loss: 0.7097 - val_accuracy: 0.3377\n",
      "Epoch 17/25\n",
      "2/2 [==============================] - 0s 105ms/step - loss: 1.0371 - accuracy: 0.6029 - val_loss: 0.7100 - val_accuracy: 0.3377\n",
      "Epoch 18/25\n",
      "2/2 [==============================] - 0s 70ms/step - loss: 1.0059 - accuracy: 0.5924 - val_loss: 0.7102 - val_accuracy: 0.3377\n",
      "Epoch 19/25\n",
      "2/2 [==============================] - 0s 81ms/step - loss: 0.9780 - accuracy: 0.5807 - val_loss: 0.7104 - val_accuracy: 0.3377\n",
      "Epoch 20/25\n",
      "2/2 [==============================] - 0s 82ms/step - loss: 0.9681 - accuracy: 0.5742 - val_loss: 0.7105 - val_accuracy: 0.3117\n",
      "Epoch 21/25\n",
      "2/2 [==============================] - 0s 82ms/step - loss: 0.9566 - accuracy: 0.5560 - val_loss: 0.7105 - val_accuracy: 0.3117\n",
      "Epoch 22/25\n",
      "2/2 [==============================] - 0s 110ms/step - loss: 0.9453 - accuracy: 0.5547 - val_loss: 0.7105 - val_accuracy: 0.3117\n",
      "Epoch 23/25\n",
      "2/2 [==============================] - 0s 83ms/step - loss: 0.9280 - accuracy: 0.5534 - val_loss: 0.7105 - val_accuracy: 0.3117\n",
      "Epoch 24/25\n",
      "2/2 [==============================] - 0s 89ms/step - loss: 0.9070 - accuracy: 0.5469 - val_loss: 0.7105 - val_accuracy: 0.3117\n",
      "Epoch 25/25\n",
      "2/2 [==============================] - 0s 97ms/step - loss: 0.8816 - accuracy: 0.5664 - val_loss: 0.7104 - val_accuracy: 0.3117\n"
     ]
    }
   ],
   "source": [
    "history = model.fit(x=x,y=y,epochs=25, batch_size=500,validation_data=(X_val,y_val))"
   ]
  },
  {
   "cell_type": "code",
   "execution_count": 16,
   "id": "5db75ad0",
   "metadata": {
    "papermill": {
     "duration": 0.382105,
     "end_time": "2022-11-12T19:23:56.668239",
     "exception": false,
     "start_time": "2022-11-12T19:23:56.286134",
     "status": "completed"
    },
    "tags": []
   },
   "outputs": [
    {
     "data": {
      "text/plain": [
       "<AxesSubplot: >"
      ]
     },
     "execution_count": 16,
     "metadata": {},
     "output_type": "execute_result"
    },
    {
     "data": {
      "image/png": "[encoded data removed]",
      "text/plain": [
       "<Figure size 640x480 with 1 Axes>"
      ]
     },
     "metadata": {},
     "output_type": "display_data"
    }
   ],
   "source": [
    "losses = pd.DataFrame(model.history.history)\n",
    "losses.plot()"
   ]
  },
  {
   "cell_type": "code",
   "execution_count": 17,
   "id": "95e5f2a0",
   "metadata": {
    "papermill": {
     "duration": 0.307024,
     "end_time": "2022-11-12T19:23:57.019804",
     "exception": false,
     "start_time": "2022-11-12T19:23:56.71278",
     "status": "completed"
    },
    "tags": []
   },
   "outputs": [
    {
     "name": "stdout",
     "output_type": "stream",
     "text": [
      "24/24 [==============================] - 0s 4ms/step - loss: 0.8597 - accuracy: 0.5820\n"
     ]
    },
    {
     "data": {
      "text/plain": [
       "[0.8596527576446533, 0.58203125]"
      ]
     },
     "execution_count": 17,
     "metadata": {},
     "output_type": "execute_result"
    }
   ],
   "source": [
    "model.evaluate(x,y)"
   ]
  },
  {
   "cell_type": "code",
   "execution_count": 18,
   "id": "bd2f7489",
   "metadata": {
    "papermill": {
     "duration": 0.214614,
     "end_time": "2022-11-12T19:23:57.280868",
     "exception": false,
     "start_time": "2022-11-12T19:23:57.066254",
     "status": "completed"
    },
    "tags": []
   },
   "outputs": [
    {
     "name": "stdout",
     "output_type": "stream",
     "text": [
      "3/3 [==============================] - 0s 3ms/step\n"
     ]
    },
    {
     "data": {
      "text/plain": [
       "array([[0.494935  ],\n",
       "       [0.51308304],\n",
       "       [0.52088475],\n",
       "       [0.49523118],\n",
       "       [0.4999331 ],\n",
       "       [0.48346314],\n",
       "       [0.5354769 ],\n",
       "       [0.5242056 ],\n",
       "       [0.5059791 ],\n",
       "       [0.52597   ],\n",
       "       [0.4978975 ],\n",
       "       [0.51300514],\n",
       "       [0.5328447 ],\n",
       "       [0.5086198 ],\n",
       "       [0.51568747],\n",
       "       [0.52221596],\n",
       "       [0.5175017 ],\n",
       "       [0.5319284 ],\n",
       "       [0.5032121 ],\n",
       "       [0.5090014 ],\n",
       "       [0.53331995],\n",
       "       [0.52361983],\n",
       "       [0.5338337 ],\n",
       "       [0.47021514],\n",
       "       [0.5037454 ],\n",
       "       [0.4697215 ],\n",
       "       [0.51313406],\n",
       "       [0.54595375],\n",
       "       [0.5146206 ],\n",
       "       [0.5061078 ],\n",
       "       [0.5000466 ],\n",
       "       [0.52528167],\n",
       "       [0.53336626],\n",
       "       [0.51730025],\n",
       "       [0.52204907],\n",
       "       [0.50588566],\n",
       "       [0.5245883 ],\n",
       "       [0.48240292],\n",
       "       [0.5504828 ],\n",
       "       [0.5348222 ],\n",
       "       [0.5201847 ],\n",
       "       [0.50747246],\n",
       "       [0.52197397],\n",
       "       [0.48711577],\n",
       "       [0.5289168 ],\n",
       "       [0.49874824],\n",
       "       [0.53133476],\n",
       "       [0.54313797],\n",
       "       [0.5022678 ],\n",
       "       [0.5261679 ],\n",
       "       [0.48970637],\n",
       "       [0.50987804],\n",
       "       [0.4859462 ],\n",
       "       [0.5203731 ],\n",
       "       [0.5139908 ],\n",
       "       [0.52329564],\n",
       "       [0.56687206],\n",
       "       [0.4892346 ],\n",
       "       [0.5099375 ],\n",
       "       [0.48597884],\n",
       "       [0.5083583 ],\n",
       "       [0.48290202],\n",
       "       [0.50696397],\n",
       "       [0.51969045],\n",
       "       [0.49212417],\n",
       "       [0.5287066 ],\n",
       "       [0.48194787],\n",
       "       [0.49967146],\n",
       "       [0.5275962 ],\n",
       "       [0.4680731 ],\n",
       "       [0.50524896],\n",
       "       [0.5170912 ],\n",
       "       [0.52488   ],\n",
       "       [0.5160161 ],\n",
       "       [0.516479  ],\n",
       "       [0.5756151 ],\n",
       "       [0.4999393 ]], dtype=float32)"
      ]
     },
     "execution_count": 18,
     "metadata": {},
     "output_type": "execute_result"
    }
   ],
   "source": [
    "y_pred = model.predict(X_test)\n",
    "y_pred"
   ]
  }
 ],
 "metadata": {
  "kernelspec": {
   "display_name": "Python 3 (ipykernel)",
   "language": "python",
   "name": "python3"
  },
  "language_info": {
   "codemirror_mode": {
    "name": "ipython",
    "version": 3
   },
   "file_extension": ".py",
   "mimetype": "text/x-python",
   "name": "python",
   "nbconvert_exporter": "python",
   "pygments_lexer": "ipython3",
   "version": "3.10.12"
  },
  "papermill": {
   "default_parameters": {},
   "duration": 50.227216,
   "end_time": "2022-11-12T19:24:01.303729",
   "environment_variables": {},
   "exception": null,
   "input_path": "__notebook__.ipynb",
   "output_path": "__notebook__.ipynb",
   "parameters": {},
   "start_time": "2022-11-12T19:23:11.076513",
   "version": "2.3.4"
  }
 },
 "nbformat": 4,
 "nbformat_minor": 5
}
